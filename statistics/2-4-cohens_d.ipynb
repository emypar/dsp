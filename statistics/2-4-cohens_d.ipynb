{
 "cells": [
  {
   "cell_type": "markdown",
   "metadata": {},
   "source": [
    "**Exercise 2.4** Using the variable totalwgt_lb, investigate whether first babies are lighter or heavier than others. Compute Cohen’s d to quantify the difference between the groups. How does it compare to the difference in pregnancy length?"
   ]
  },
  {
   "cell_type": "markdown",
   "metadata": {},
   "source": [
    "**IMPORTANT!** [ThinkStats2](https://github.com/AllenDowney/ThinkStats2) should be cloned ../.. relative to this dir."
   ]
  },
  {
   "cell_type": "code",
   "execution_count": 1,
   "metadata": {
    "collapsed": true
   },
   "outputs": [],
   "source": [
    "import sys\n",
    "import os\n",
    "import math\n",
    "\n",
    "import numpy as np\n",
    "import pandas as pd"
   ]
  },
  {
   "cell_type": "code",
   "execution_count": 6,
   "metadata": {
    "collapsed": true
   },
   "outputs": [],
   "source": [
    "import thinkstats2_path\n",
    "import nsfg"
   ]
  },
  {
   "cell_type": "code",
   "execution_count": 12,
   "metadata": {},
   "outputs": [],
   "source": [
    "def cohens_d(g1, g2):\n",
    "    \"\"\"Compute Cohen's Effect Size for 2 groups\n",
    "\n",
    "    Args:\n",
    "      g1, g2: DataSeries or DataFrames w/ the same columns.\n",
    "\n",
    "    Returns:\n",
    "      float/Data Series: The Cohen's effect size\n",
    "    \n",
    "    \"\"\"\n",
    "\n",
    "    mean1 = g1.mean()\n",
    "    mean2 = g2.mean()\n",
    "\n",
    "    var1 = g1.var()\n",
    "    var2 = g2.var()\n",
    "    \n",
    "    n1 = len(g1)\n",
    "    n2 = len(g2)\n",
    "\n",
    "    v = (var1 * n1 + var2 * n2) / (n1 + n2)\n",
    "\n",
    "    return (mean1 - mean2) / math.sqrt(v)\n"
   ]
  },
  {
   "cell_type": "code",
   "execution_count": 7,
   "metadata": {
    "collapsed": true
   },
   "outputs": [],
   "source": [
    "# Load pregnancy data:\n",
    "preg = nsfg.ReadFemPreg()\n",
    "# Keep only live births:\n",
    "live = preg[preg.outcome == 1]\n",
    "# Segregate first v. subsequent births:\n",
    "firsts = live[live.birthord == 1]\n",
    "others = live[live.birthord != 1]"
   ]
  },
  {
   "cell_type": "code",
   "execution_count": 18,
   "metadata": {},
   "outputs": [
    {
     "name": "stdout",
     "output_type": "stream",
     "text": [
      "Avg weight (lbs): firsts=7.20, others=7.33, diff=-0.12\n",
      "Std (lbs): firsts=1.421, others=1.394195\n",
      "Cohen's Effect Factor(firsts, others) for birth weight=-0.088673\n"
     ]
    }
   ],
   "source": [
    "firsts_totalwgt_lb_mean = firsts.totalwgt_lb.mean()\n",
    "others_totalwgt_lb_mean = others.totalwgt_lb.mean()\n",
    "print(\"Avg weight (lbs): firsts={:.2f}, others={:.2f}, diff={:.2f}\".format(\n",
    "    firsts_totalwgt_lb_mean, others_totalwgt_lb_mean, firsts_totalwgt_lb_mean - others_totalwgt_lb_mean))\n",
    "print(\"Std (lbs): firsts={:.3f}, others={:.6f}\".format(\n",
    "    firsts.totalwgt_lb.std(), others.totalwgt_lb.std()))\n",
    "print(\"Cohen's Effect Factor(firsts, others) for birth weight={:.6f}\".format(\n",
    "    cohens_d(firsts.totalwgt_lb, others.totalwgt_lb)))"
   ]
  },
  {
   "cell_type": "markdown",
   "metadata": {},
   "source": [
    "**Conclusion:** While first babies are lighter on average, the effect size is **small** (0.01 .. 0.2) according to [Wikipedia](https://en.wikipedia.org/wiki/Effect_size#Cohen's_d)"
   ]
  },
  {
   "cell_type": "code",
   "execution_count": 19,
   "metadata": {},
   "outputs": [
    {
     "name": "stdout",
     "output_type": "stream",
     "text": [
      "Avg pregnancy length (weeks): firsts=38.60, others=38.52, diff=0.08\n",
      "Cohen's Effect Factor(firsts, others) for pregnancy length=0.028879\n"
     ]
    }
   ],
   "source": [
    "firsts_prglngth_mean = firsts.prglngth.mean()\n",
    "others_prglngth_mean = others.prglngth.mean()\n",
    "print(\"Avg pregnancy length (weeks): firsts={:.2f}, others={:.2f}, diff={:.2f}\".format(\n",
    "    firsts_prglngth_mean, others_prglngth_mean, firsts_prglngth_mean - others_prglngth_mean))\n",
    "print(\"Cohen's Effect Factor(firsts, others) for pregnancy length={:.6f}\".format(\n",
    "    cohens_d(firsts.prglngth, others.prglngth)))"
   ]
  },
  {
   "cell_type": "markdown",
   "metadata": {},
   "source": [
    "**Conclusion:** While first baby pregancies are longer on average (i.e. opposite direction than weight) the side effect is both small as per Cohen's d and insignificant in meaning (.08 weeks = 0.56 days = 13 hrs)"
   ]
  },
  {
   "cell_type": "code",
   "execution_count": null,
   "metadata": {
    "collapsed": true
   },
   "outputs": [],
   "source": []
  },
  {
   "cell_type": "code",
   "execution_count": null,
   "metadata": {
    "collapsed": true
   },
   "outputs": [],
   "source": []
  }
 ],
 "metadata": {
  "kernelspec": {
   "display_name": "Python 3",
   "language": "python",
   "name": "python3"
  },
  "language_info": {
   "codemirror_mode": {
    "name": "ipython",
    "version": 3
   },
   "file_extension": ".py",
   "mimetype": "text/x-python",
   "name": "python",
   "nbconvert_exporter": "python",
   "pygments_lexer": "ipython3",
   "version": "3.6.3"
  }
 },
 "nbformat": 4,
 "nbformat_minor": 2
}
