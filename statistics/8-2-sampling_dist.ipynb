{
 "cells": [
  {
   "cell_type": "markdown",
   "metadata": {},
   "source": [
    "**Exercise 8.2** Suppose you draw a sample with size n = 10 from an exponential distribution with λ = 2.  \n",
    "Simulate this experiment 1000 times and plot the sampling distribution of the estimate L.  \n",
    "Compute the standard error of the estimate and the 90% confidence interval.  \n",
    "Repeat the experiment with a few different values of n and make a plot of standard error versus n."
   ]
  },
  {
   "cell_type": "markdown",
   "metadata": {},
   "source": [
    "**IMPORTANT!** [ThinkStats2](https://github.com/AllenDowney/ThinkStats2) should be cloned ../.. relative to this dir."
   ]
  },
  {
   "cell_type": "code",
   "execution_count": 1,
   "metadata": {
    "collapsed": true
   },
   "outputs": [],
   "source": [
    "import sys\n",
    "import os\n",
    "import math\n",
    "\n",
    "import numpy as np\n",
    "import pandas as pd"
   ]
  },
  {
   "cell_type": "code",
   "execution_count": 2,
   "metadata": {
    "collapsed": true
   },
   "outputs": [],
   "source": [
    "import thinkstats2_path\n",
    "import thinkstats2\n",
    "import thinkplot"
   ]
  },
  {
   "cell_type": "code",
   "execution_count": 3,
   "metadata": {
    "collapsed": true
   },
   "outputs": [],
   "source": [
    "def RMSE(estimates, actual):\n",
    "    \"\"\"Computes the root mean squared error of a sequence of estimates.\n",
    "\n",
    "    estimate: sequence of numbers\n",
    "    actual: actual value\n",
    "\n",
    "    returns: float RMSE\n",
    "    \"\"\"\n",
    "    e2 = [(estimate-actual)**2 for estimate in estimates]\n",
    "    mse = np.mean(e2)\n",
    "    return np.sqrt(mse)       "
   ]
  },
  {
   "cell_type": "code",
   "execution_count": 4,
   "metadata": {
    "collapsed": true
   },
   "outputs": [],
   "source": [
    "def SimulateExp(n=10, m=1000, lam=2):\n",
    "    estimators = []\n",
    "    for _ in range(m):\n",
    "        sample = np.random.exponential(scale=1/lam, size=n)\n",
    "        estimators.append(1/sample.mean())\n",
    "    cdf = thinkstats2.Cdf(estimators, label='n={}'.format(n))\n",
    "    stderr = RMSE(estimators, lam)\n",
    "    confidence_int = (cdf.Percentile(5), cdf.Percentile(95))\n",
    "    return cdf, stderr, confidence_int"
   ]
  },
  {
   "cell_type": "code",
   "execution_count": 5,
   "metadata": {
    "collapsed": true
   },
   "outputs": [],
   "source": [
    "n_list = [10, 100, 1000]\n",
    "cdfs = []\n",
    "rows = []\n",
    "for n in n_list:\n",
    "    cdf, stderr, confidence_int = SimulateExp(n)\n",
    "    cdfs.append(cdf)\n",
    "    rows.append([stderr, confidence_int])\n",
    "df = pd.DataFrame(rows, columns=['Stderr', '90% Confidence Interval'], index=n_list)\n",
    "df.index.name = 'Sample Size'"
   ]
  },
  {
   "cell_type": "code",
   "execution_count": 6,
   "metadata": {},
   "outputs": [
    {
     "data": {
      "image/png": "[encoded data removed]",
      "text/plain": [
       "<matplotlib.figure.Figure at 0x1a122e38d0>"
      ]
     },
     "metadata": {},
     "output_type": "display_data"
    }
   ],
   "source": [
    "thinkplot.Cdfs(cdfs)\n",
    "thinkplot.Show()"
   ]
  },
  {
   "cell_type": "code",
   "execution_count": 7,
   "metadata": {},
   "outputs": [
    {
     "name": "stdout",
     "output_type": "stream",
     "text": [
      "               Stderr         90% Confidence Interval\n",
      "Sample Size                                          \n",
      "10           0.790018   (1.2752635002, 3.70066003107)\n",
      "100          0.205286  (1.70411947351, 2.37227320207)\n",
      "1000         0.065093  (1.90021692322, 2.11717243778)\n"
     ]
    }
   ],
   "source": [
    "print(df)"
   ]
  },
  {
   "cell_type": "code",
   "execution_count": null,
   "metadata": {
    "collapsed": true
   },
   "outputs": [],
   "source": []
  }
 ],
 "metadata": {
  "kernelspec": {
   "display_name": "Python 3",
   "language": "python",
   "name": "python3"
  },
  "language_info": {
   "codemirror_mode": {
    "name": "ipython",
    "version": 3
   },
   "file_extension": ".py",
   "mimetype": "text/x-python",
   "name": "python",
   "nbconvert_exporter": "python",
   "pygments_lexer": "ipython3",
   "version": "3.6.3"
  }
 },
 "nbformat": 4,
 "nbformat_minor": 2
}
