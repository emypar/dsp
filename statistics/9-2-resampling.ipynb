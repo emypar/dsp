{
 "cells": [
  {
   "cell_type": "markdown",
   "metadata": {},
   "source": [
    "**Exercise 9.2** In Section 9.3, we simulated the null hypothesis by permutation; that is, we treated the observed values as if they represented the entire population, and randomly assigned the members of the population to the two groups.\n",
    "\n",
    "An alternative is to use the sample to estimate the distribution for the population, then draw a random sample from that distribution. This process is called resampling. There are several ways to implement resampling, but one of the simplest is to draw a sample with replacement from the observed values, as in Section 9.10.\n",
    "\n",
    "Write a class named DiffMeansResample that inherits from DiffMeansPermute and overrides RunModel to implement resampling, rather than permutation.\n",
    "\n",
    "Use this model to test the differences in pregnancy length and birth weight. How much does the model affect the results?"
   ]
  },
  {
   "cell_type": "markdown",
   "metadata": {},
   "source": [
    "**IMPORTANT!** [ThinkStats2](https://github.com/AllenDowney/ThinkStats2) should be cloned ../.. relative to this dir."
   ]
  },
  {
   "cell_type": "code",
   "execution_count": 1,
   "metadata": {
    "collapsed": true
   },
   "outputs": [],
   "source": [
    "import sys\n",
    "import os\n",
    "import math\n",
    "\n",
    "import numpy as np\n",
    "import pandas as pd"
   ]
  },
  {
   "cell_type": "code",
   "execution_count": 2,
   "metadata": {},
   "outputs": [],
   "source": [
    "import thinkstats2_path\n",
    "import first, thinkstats2, thinkplot"
   ]
  },
  {
   "cell_type": "code",
   "execution_count": 3,
   "metadata": {},
   "outputs": [],
   "source": [
    "import first\n",
    "\n",
    "live, firsts, others = first.MakeFrames()\n",
    "prglngth_data = firsts.prglngth.values, others.prglngth.values\n",
    "weight_data = firsts.totalwgt_lb.dropna().values, others.totalwgt_lb.dropna().values"
   ]
  },
  {
   "cell_type": "code",
   "execution_count": 4,
   "metadata": {
    "collapsed": true
   },
   "outputs": [],
   "source": [
    "# DiffMeansPermute from the book:\n",
    "class DiffMeansPermute(thinkstats2.HypothesisTest):\n",
    "\n",
    "    def TestStatistic(self, data):\n",
    "        group1, group2 = data\n",
    "        test_stat = abs(group1.mean() - group2.mean())\n",
    "        return test_stat\n",
    "\n",
    "    def MakeModel(self):\n",
    "        group1, group2 = self.data\n",
    "        self.n, self.m = len(group1), len(group2)\n",
    "        self.pool = np.hstack((group1, group2))\n",
    "\n",
    "    def RunModel(self):\n",
    "        np.random.shuffle(self.pool)\n",
    "        data = self.pool[:self.n], self.pool[self.n:]\n",
    "        return data"
   ]
  },
  {
   "cell_type": "code",
   "execution_count": 5,
   "metadata": {},
   "outputs": [],
   "source": [
    "# Override RunModel for resampling:\n",
    "class DiffMeansResampling(DiffMeansPermute):\n",
    "    \n",
    "    def RunModel(self):\n",
    "        group1, group2 = self.pool[:self.n], self.pool[self.n:]\n",
    "        resample1 = np.random.choice(self.pool, self.n, replace=True)\n",
    "        resample2 = np.random.choice(self.pool, self.m, replace=True)\n",
    "        return resample1, resample2"
   ]
  },
  {
   "cell_type": "code",
   "execution_count": 6,
   "metadata": {
    "collapsed": true
   },
   "outputs": [],
   "source": [
    "iters = 10000"
   ]
  },
  {
   "cell_type": "code",
   "execution_count": 7,
   "metadata": {},
   "outputs": [],
   "source": [
    "# Permutation test; also record the actual statistics since it doesn't \n",
    "# depend upon the simulation:\n",
    "ht = DiffMeansPermute(prglngth_data)\n",
    "prglngth_p_val_perm = ht.PValue(iters=iters)\n",
    "prglngth_stat = ht.actual\n",
    "ht = DiffMeansPermute(weight_data)\n",
    "weight_p_val_perm = ht.PValue(iters=iters)\n",
    "weight_stat = ht.actual"
   ]
  },
  {
   "cell_type": "code",
   "execution_count": 8,
   "metadata": {
    "collapsed": true
   },
   "outputs": [],
   "source": [
    "# Resampling test:\n",
    "ht = DiffMeansResampling(prglngth_data)\n",
    "prglngth_p_val_res = ht.PValue(iters=iters)\n",
    "ht = DiffMeansResampling(weight_data)\n",
    "weight_p_val_res = ht.PValue(iters=iters)"
   ]
  },
  {
   "cell_type": "code",
   "execution_count": 10,
   "metadata": {},
   "outputs": [
    {
     "name": "stdout",
     "output_type": "stream",
     "text": [
      "Preg Length Actual Stat=0.078037\n",
      "Birth Weight Actual Stat=0.124761\n",
      "Comparison Table:\n",
      "             Preg Length p-val  Birth Weight p-val\n",
      "Simulation                                        \n",
      "Permutation             0.1654                 0.0\n",
      "Resampling              0.1696                 0.0\n"
     ]
    }
   ],
   "source": [
    "print(\"Preg Length Actual Stat={:.6f}\".format(prglngth_stat))\n",
    "print(\"Birth Weight Actual Stat={:.6f}\".format(weight_stat))\n",
    "\n",
    "print(\"Comparison Table:\")\n",
    "df = pd.DataFrame(\n",
    "    [\n",
    "        [prglngth_p_val_perm, weight_p_val_perm],\n",
    "        [prglngth_p_val_res, weight_p_val_res]\n",
    "    ],\n",
    "    columns=['Preg Length p-val', 'Birth Weight p-val'],\n",
    "    index=['Permutation', 'Resampling']\n",
    ")\n",
    "df.index.name = 'Simulation'\n",
    "print(df)"
   ]
  },
  {
   "cell_type": "markdown",
   "metadata": {},
   "source": [
    "**Conclusion:** The p-values returned by both simulation methods are very close to each other and they lead to the same interpretation:\n",
    " - pregnancy length difference is statistically insignificant\n",
    " - birth weight length is statistically significant"
   ]
  }
 ],
 "metadata": {
  "kernelspec": {
   "display_name": "Python 3",
   "language": "python",
   "name": "python3"
  },
  "language_info": {
   "codemirror_mode": {
    "name": "ipython",
    "version": 3
   },
   "file_extension": ".py",
   "mimetype": "text/x-python",
   "name": "python",
   "nbconvert_exporter": "python",
   "pygments_lexer": "ipython3",
   "version": "3.6.3"
  }
 },
 "nbformat": 4,
 "nbformat_minor": 2
}
