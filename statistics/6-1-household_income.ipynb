{
 "cells": [
  {
   "cell_type": "markdown",
   "metadata": {},
   "source": [
    "**Exercise 6.1** The distribution of income is famously skewed to the right. In this exercise, we’ll measure how strong that skew is.\n",
    "\n",
    "The Current Population Survey (CPS) is a joint effort of the Bureau of Labor Statistics and the Census Bureau to study income and related variables. Data collected in 2013 is available from http://www.census.gov/hhes/www/ cpstables/032013/hhinc/toc.htm. I downloaded hinc06.xls, which is an Excel spreadsheet with information about household income, and converted it to hinc06.csv, a CSV file you will find in the repository for this book. You will also find hinc2.py, which reads this file and transforms the data.\n",
    "\n",
    "The dataset is in the form of a series of income ranges and the number of respondents who fell in each range. The lowest range includes respondents who reported annual household income `\"Under $5000.\"` The highest range includes respondents who made `\"$250,000 or more.\"`\n",
    "\n",
    "To estimate mean and other statistics from these data, we have to make some assumptions about the lower and upper bounds, and how the values are distributed in each range. hinc2.py provides InterpolateSample, which shows one way to model this data. It takes a DataFrame with a column, income, that contains the upper bound of each range, and freq, which contains the number of respondents in each frame.\n",
    "\n",
    "It also takes log_upper, which is an assumed upper bound on the highest range, expressed in log10 dollars. The default value, log_upper=6.0 represents the assumption that the largest income among the respondents is 106, or one million dollars.\n",
    "InterpolateSample generates a pseudo-sample; that is, a sample of household incomes that yields the same number of respondents in each range as the actual data. It assumes that incomes in each range are equally spaced on a log10 scale.\n",
    "\n",
    "Compute the median, mean, skewness and Pearson’s skewness of the resulting sample.  \n",
    "What fraction of households reports a taxable income below the mean?  \n",
    "How do the results depend on the assumed upper bound?  "
   ]
  },
  {
   "cell_type": "markdown",
   "metadata": {},
   "source": [
    "**IMPORTANT!** [ThinkStats2](https://github.com/AllenDowney/ThinkStats2) should be cloned ../.. relative to this dir."
   ]
  },
  {
   "cell_type": "code",
   "execution_count": 15,
   "metadata": {
    "collapsed": true
   },
   "outputs": [],
   "source": [
    "import sys\n",
    "import os\n",
    "import math\n",
    "\n",
    "import numpy as np\n",
    "import pandas as pd\n",
    "import scipy"
   ]
  },
  {
   "cell_type": "code",
   "execution_count": 23,
   "metadata": {
    "collapsed": true
   },
   "outputs": [],
   "source": [
    "import thinkstats2_path\n",
    "import thinkstats2, hinc, hinc2"
   ]
  },
  {
   "cell_type": "code",
   "execution_count": 31,
   "metadata": {},
   "outputs": [],
   "source": [
    "df = hinc.ReadData()"
   ]
  },
  {
   "cell_type": "code",
   "execution_count": 40,
   "metadata": {},
   "outputs": [],
   "source": [
    "def process_sample(log_upper=6.0):\n",
    "    log_sample = hinc2.InterpolateSample(df, log_upper=log_upper)\n",
    "    sample = np.power(10, log_sample)\n",
    "    mean = np.mean(sample)\n",
    "    median = np.median(sample)\n",
    "    std = np.std(sample)\n",
    "    skew = scipy.stats.skew(sample)\n",
    "    p_skew = 3*(mean - median)/std\n",
    "    cdf = thinkstats2.Cdf(sample)\n",
    "    print(\"Household Income w/ log_upper={}:\".format(log_upper))\n",
    "    print(\" Median={:.02f}, Mean={:.02f}, Skew={:.6f}, Pearson's Skew={:.6f}, Pct Below Mean={:.02f}%\".format(\n",
    "        mean, median, skew, p_skew, cdf.Prob(mean)*100.\n",
    "    ))"
   ]
  },
  {
   "cell_type": "code",
   "execution_count": 42,
   "metadata": {},
   "outputs": [
    {
     "name": "stderr",
     "output_type": "stream",
     "text": [
      "/Users/emy/ds/metis/metisgh/prework/ThinkStats2/code/hinc2.py:33: SettingWithCopyWarning: \n",
      "A value is trying to be set on a copy of a slice from a DataFrame\n",
      "\n",
      "See the caveats in the documentation: http://pandas.pydata.org/pandas-docs/stable/indexing.html#indexing-view-versus-copy\n",
      "  df.log_lower[0] = 3.0\n",
      "/Users/emy/ds/metis/metisgh/prework/ThinkStats2/code/hinc2.py:36: SettingWithCopyWarning: \n",
      "A value is trying to be set on a copy of a slice from a DataFrame\n",
      "\n",
      "See the caveats in the documentation: http://pandas.pydata.org/pandas-docs/stable/indexing.html#indexing-view-versus-copy\n",
      "  df.log_upper[41] = log_upper\n"
     ]
    },
    {
     "name": "stdout",
     "output_type": "stream",
     "text": [
      "Household Income w/ log_upper=6.0:\n",
      " Median=74278.71, Mean=51226.93, Skew=4.949920, Pearson's Skew=0.736111, Pct Below Mean=66.00%\n",
      "Household Income w/ log_upper=7.0:\n",
      " Median=124267.40, Mean=51226.93, Skew=11.603690, Pearson's Skew=0.391562, Pct Below Mean=85.66%\n"
     ]
    }
   ],
   "source": [
    "process_sample(6.0)\n",
    "process_sample(7.0)"
   ]
  },
  {
   "cell_type": "code",
   "execution_count": null,
   "metadata": {
    "collapsed": true
   },
   "outputs": [],
   "source": []
  }
 ],
 "metadata": {
  "kernelspec": {
   "display_name": "Python 3",
   "language": "python",
   "name": "python3"
  },
  "language_info": {
   "codemirror_mode": {
    "name": "ipython",
    "version": 3
   },
   "file_extension": ".py",
   "mimetype": "text/x-python",
   "name": "python",
   "nbconvert_exporter": "python",
   "pygments_lexer": "ipython3",
   "version": "3.6.3"
  }
 },
 "nbformat": 4,
 "nbformat_minor": 2
}
